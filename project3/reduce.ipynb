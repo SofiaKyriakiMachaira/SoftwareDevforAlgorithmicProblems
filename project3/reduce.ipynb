{
  "cells": [
    {
      "cell_type": "markdown",
      "metadata": {
        "id": "yiDLHUjt9wRI"
      },
      "source": [
        "Ανάπτυξη Λογισμικού για Αλγοριθμικά Προβλήματα Εργασία 3\n",
        "\n",
        "Ονοματεπώνυμο: Άγγελος Κόντος <br>\n",
        "SDI: 1115202000089 <br>\n",
        "Ονοματεπώνυμο: Σοφία Κυριακή Μάχαιρα <br>\n",
        "SDI: 1115202000125\n",
        "\n"
      ]
    },
    {
      "cell_type": "code",
      "source": [
        "import sys\n",
        "\n",
        "# Default file names\n",
        "inputfile = \"input.dat\"\n",
        "queryfile = \"query.dat\"\n",
        "encoderfilep = \"encoder_pf.dat\"\n",
        "encoderfileq = \"encoder_qf.dat\"\n",
        "\n",
        "# Check if alternative parameters were given\n",
        "for i in range(len(sys.argv) - 1):\n",
        "  if sys.argv[i] == \"-d\":\n",
        "    inputfile = sys.argv[i + 1]\n",
        "  if sys.argv[i] == \"-q\":\n",
        "    queryfile = sys.argv[i + 1]\n",
        "  if sys.argv[i] == \"-od\":\n",
        "    encoderfilep = sys.argv[i + 1]\n",
        "  if sys.argv[i] == \"-oq\":\n",
        "    encoderfileq = sys.argv[i + 1]"
      ],
      "metadata": {
        "id": "ojeRGv7tiVLC"
      },
      "execution_count": null,
      "outputs": []
    },
    {
      "cell_type": "code",
      "execution_count": null,
      "metadata": {
        "id": "ix9GrOH0Mkwl"
      },
      "outputs": [],
      "source": [
        "import pathlib\n",
        "import numpy as np\n",
        "import keras\n",
        "import tensorflow as tf\n",
        "import tensorflow.keras as keras\n",
        "from tensorflow.keras.models import Sequential, load_model\n",
        "from tensorflow.keras.layers import Dense\n",
        "from sklearn.model_selection import train_test_split\n",
        "from sklearn.metrics import accuracy_score\n",
        "import pandas as pd\n",
        "from keras import layers, optimizers, losses, metrics\n",
        "from sklearn.model_selection import train_test_split\n",
        "from tensorflow.keras.models import Model\n",
        "import matplotlib.pyplot as plt\n",
        "\n",
        "w, h = 28, 28 # weight and height\n",
        "# Read file using numpy \"fromfile()\" and store into images\n",
        "images = []\n",
        "# ebala 60.000\n",
        "try:\n",
        "  with open(inputfile, mode = 'rb') as f:\n",
        "    images = np.fromfile(f, dtype = np.uint8, count = 60000*w*h, offset = 16).reshape(60000, h*w)\n",
        "  with open(queryfile, mode = 'rb') as f:\n",
        "    queries = np.fromfile(f, dtype = np.uint8, count = 10*w*h, offset = 16).reshape(10, h*w)\n",
        "except FileNotFoundError:\n",
        "  print(\"Error! File not found.\")"
      ]
    },
    {
      "cell_type": "code",
      "execution_count": null,
      "metadata": {
        "id": "6ArCEcPZw7eR"
      },
      "outputs": [],
      "source": [
        "# arxikopoisi\n",
        "ima = np.zeros((len(images), 28, 28, 1), dtype = np.float32)\n",
        "ima = images.reshape((len(images), 28, 28, 1))\n",
        "que = np.zeros((len(images), 28, 28, 1), dtype = np.float32)\n",
        "que = que.reshape((len(images), 28, 28, 1))"
      ]
    },
    {
      "cell_type": "code",
      "execution_count": null,
      "metadata": {
        "colab": {
          "base_uri": "https://localhost:8080/"
        },
        "id": "SFbCIxU8XG1V",
        "outputId": "cd97aaa7-8b3f-4e71-f635-d31a28e073ae"
      },
      "outputs": [
        {
          "output_type": "stream",
          "name": "stdout",
          "text": [
            "Epoch 1/7\n",
            "540/540 [==============================] - 12s 8ms/step - loss: 0.1130 - val_loss: 0.1135\n",
            "Epoch 2/7\n",
            "540/540 [==============================] - 4s 8ms/step - loss: 0.0549 - val_loss: 0.0258\n",
            "Epoch 3/7\n",
            "540/540 [==============================] - 4s 8ms/step - loss: 0.0199 - val_loss: 0.0174\n",
            "Epoch 4/7\n",
            "540/540 [==============================] - 5s 10ms/step - loss: 0.0148 - val_loss: 0.0152\n",
            "Epoch 5/7\n",
            "540/540 [==============================] - 3s 6ms/step - loss: 0.0125 - val_loss: 0.0138\n",
            "Epoch 6/7\n",
            "540/540 [==============================] - 2s 4ms/step - loss: 0.0109 - val_loss: 0.0136\n",
            "Epoch 7/7\n",
            "540/540 [==============================] - 2s 4ms/step - loss: 0.0100 - val_loss: 0.0127\n"
          ]
        },
        {
          "output_type": "execute_result",
          "data": {
            "text/plain": [
              "<keras.src.callbacks.History at 0x7e473ff3e560>"
            ]
          },
          "metadata": {},
          "execution_count": 4
        }
      ],
      "source": [
        "points_train, points_val = train_test_split(ima[0:3000], random_state = 1000, test_size = 0.1, shuffle = True)\n",
        "points_train = points_train.astype('float32') /255.0\n",
        "points_val = points_val.astype('float32') /255.0\n",
        "\n",
        "# autoencoder.fit(x_train, x_train,epochs=10,shuffle=True,validation_data=(x_test, x_test))\n",
        "class Autoencoder(Model):\n",
        "    def __init__(self, latent_dim, filter1, filter2, kernel_size1, kernel_size2, pool1, pool2):\n",
        "        super(Autoencoder, self).__init__()\n",
        "        self.latent_dim = latent_dim\n",
        "\n",
        "        self.encoder_conv1 = layers.Conv2D(filters = filter1, kernel_size = kernel_size1, strides = (2, 2), padding = 'same', activation = 'relu', input_shape = (28, 28, 1)) # 28 x 28 x 32\n",
        "        self.encoder_maxpool1 = layers.MaxPooling2D(pool_size = pool1, padding = 'same')\n",
        "        self.encoder_conv2 = layers.Conv2D(filters = filter2, kernel_size = kernel_size2, strides = (2, 2), padding = 'same', activation = 'relu') # 14 x 14 x 64\n",
        "        self.encoder_maxpool2 = layers.MaxPooling2D(pool_size = pool2, padding = 'same')\n",
        "        self.encoder_flatten = layers.Flatten() # flattens it to 1 dimension so we can use Dense\n",
        "        self.encoder_dense = layers.Dense(latent_dim) # to make it latent_dim numbers 1 dimension\n",
        "\n",
        "        # Decoder layers\n",
        "        self.decoder_dense = layers.Dense(units = 7*7*filter1, activation = 'relu')\n",
        "        self.decoder_reshape = layers.Reshape(target_shape = (7, 7, filter1))\n",
        "        self.decoder_upsample1 = layers.UpSampling2D(size = pool1)\n",
        "        self.decoder_conv1 = layers.Conv2D(filters = filter2, kernel_size = kernel_size2, padding = 'same', activation = 'relu')\n",
        "        self.decoder_upsample2 = layers.UpSampling2D(size = pool2)\n",
        "        self.decoder_conv2 = layers.Conv2D(filters = filter2, kernel_size = kernel_size1, padding = 'same', activation = 'relu')\n",
        "        self.decoder_conv3 = layers.Conv2D(filters = 1, kernel_size = 3, padding = 'same', activation = 'sigmoid') # 28 x 28 x1\n",
        "\n",
        "    def encode(self, x):\n",
        "        x = self.encoder_conv1(x)\n",
        "        x = self.encoder_maxpool1(x)\n",
        "        x = self.encoder_conv2(x)\n",
        "        x = self.encoder_maxpool2(x)\n",
        "        x = self.encoder_flatten(x)\n",
        "        x = self.encoder_dense(x)\n",
        "        return x\n",
        "\n",
        "    def decode(self, x):\n",
        "        x = self.decoder_dense(x)\n",
        "        x = self.decoder_reshape(x)\n",
        "        x = self.decoder_upsample1(x)\n",
        "        x = self.decoder_conv1(x)\n",
        "        x = self.decoder_upsample2(x)\n",
        "        x = self.decoder_conv2(x)\n",
        "        x = self.decoder_conv3(x)\n",
        "        return x\n",
        "    def call(self, inputs):\n",
        "        # Encoder\n",
        "        x = self.encoder_conv1(inputs)\n",
        "        x = self.encoder_maxpool1(x)\n",
        "        x = self.encoder_conv2(x)\n",
        "        x = self.encoder_maxpool2(x)\n",
        "        x = self.encoder_flatten(x)\n",
        "        encoded = self.encoder_dense(x)\n",
        "\n",
        "        # Decoder\n",
        "        x = self.decoder_dense(encoded)\n",
        "        x = self.decoder_reshape(x)\n",
        "        x = self.decoder_upsample1(x)\n",
        "        x = self.decoder_conv1(x)\n",
        "        x = self.decoder_upsample2(x)\n",
        "        x = self.decoder_conv2(x)\n",
        "        decoded = self.decoder_conv3(x)\n",
        "\n",
        "        return decoded\n",
        "# epoch7 batch5 latent_dim20 filter1 128 filter2 32 kernel_size1 4 kernel_size2 5\n",
        "latent_dim = 20\n",
        "autoencoder = Autoencoder(latent_dim,128,32,4,5,(2,2),(2,2))\n",
        "# Compile the model\n",
        "autoencoder.compile(optimizer = 'adam', loss = 'mse')\n",
        "all_points = ima.astype('float32') / 255.0\n",
        "all_q = que.astype('float32') / 255.0\n",
        "# Train the autoencoder                                                                                      points_val, points_val\n",
        "autoencoder.fit(points_train, points_train, epochs = 7, batch_size = 5, shuffle = True, validation_data = (points_val, points_val)) # As mentioned in class, ideal epochs and batches size = 10\n"
      ]
    },
    {
      "cell_type": "code",
      "source": [
        "encoded_images = autoencoder.encode(all_points[0:20000])\n",
        "encoded_q =autoencoder.encode(all_q[0:10])\n",
        "decoded_q =autoencoder.decode(encoded_q)\n",
        "decoded_q = decoded_q*255\n",
        "decoded_q = tf.cast(decoded_q, dtype=tf.int32)\n",
        "decoded_images = autoencoder.predict(all_points[0:20000])\n",
        "decoded_images = decoded_images*255\n",
        "decoded_images = tf.cast(decoded_images, dtype = tf.int32)\n",
        "with open(encoderfilep, 'w') as file:\n",
        "  file.write(str(50000)) # Magic number\n",
        "  file.write(' ')\n",
        "  file.write(str(len(encoded_images)))\n",
        "  file.write(' ')\n",
        "  file.write(str(latent_dim))\n",
        "  file.write(' ')\n",
        "  file.write(str(1))\n",
        "  file.write(' ')\n",
        "  file.write('\\n')\n",
        "  for i, encoded_image in enumerate(encoded_images):\n",
        "      file.write(' '.join(map(str, encoded_image.numpy().flatten())))\n",
        "      file.write('\\n')\n",
        "  file.close()\n",
        "with open(f'decoder_pf.dat', 'w') as file:\n",
        "    file.write(str(50000)) # Magic number\n",
        "    file.write(' ')\n",
        "    file.write(str(len(decoded_images)))\n",
        "    file.write(' ')\n",
        "    file.write(\"28\")\n",
        "    file.write(' ')\n",
        "    file.write(\"28\")\n",
        "    file.write(' ')\n",
        "    file.write('\\n')\n",
        "    for i, decoded_image in enumerate(decoded_images):\n",
        "        file.write(' '.join(map(str, decoded_image.numpy().flatten())))\n",
        "        file.write('\\n')\n",
        "    file.close()\n",
        "with open(f'decoder_qf.dat', 'w') as file:\n",
        "    for i, decoded_image in enumerate(decoded_q):\n",
        "      file.write(' '.join(map(str, decoded_q.numpy().flatten())))\n",
        "      file.write('\\n')\n",
        "    file.close()\n",
        "with open(encoderfileq, 'w') as file:\n",
        "    for i, encoded_image in enumerate(encoded_q):\n",
        "      file.write(' '.join(map(str, encoded_image.numpy().flatten())))\n",
        "      file.write('\\n')\n",
        "    file.close()"
      ],
      "metadata": {
        "id": "Ta_eDwbrmBpP",
        "colab": {
          "base_uri": "https://localhost:8080/"
        },
        "outputId": "103b1aa3-3c1d-465b-ca7b-cb9fb2786615"
      },
      "execution_count": null,
      "outputs": [
        {
          "output_type": "stream",
          "name": "stdout",
          "text": [
            "625/625 [==============================] - 2s 2ms/step\n"
          ]
        }
      ]
    },
    {
      "cell_type": "code",
      "source": [
        "import subprocess\n",
        "# ADD EXTRA PARAMETERS FOR ALGORITHMS HERE IF NECESSARY\n",
        "command = [\"./reduced\", \"-d\", inputfile, \"-q\", queryfile, \"-o\", \"output.txt\", \"-od\", encoderfilep, \"-oq\", encoderfileq, \"-dp\", \"decoder_pf.dat\", \"-dq\", \"decoder_qf.dat\"]\n",
        "\n",
        "subprocess.run(command)"
      ],
      "metadata": {
        "id": "FGmCsv9Ade96"
      },
      "execution_count": null,
      "outputs": []
    },
    {
      "cell_type": "code",
      "execution_count": null,
      "metadata": {
        "id": "nLc9hGkcjZAt"
      },
      "outputs": [],
      "source": [
        "# gia na doyme apla poso kala ftiaxnontai\n",
        "points_test = ima[30000:].astype('float32') / 255.0\n",
        "decoded_images = autoencoder.predict(points_test)\n",
        "encoded_images = autoencoder.encode(points_test)"
      ]
    },
    {
      "cell_type": "code",
      "execution_count": null,
      "metadata": {
        "colab": {
          "base_uri": "https://localhost:8080/",
          "height": 211
        },
        "id": "em3foLpTcbPG",
        "outputId": "c30e3188-34be-46b9-ddf3-4866ba9c5541"
      },
      "outputs": [
        {
          "output_type": "display_data",
          "data": {
            "text/plain": [
              "<Figure size 2000x600 with 20 Axes>"
            ],
            "image/png": "[encoded data removed]"
          },
          "metadata": {}
        }
      ],
      "source": [
        "\n",
        "n = 10  # Number of images to display\n",
        "plt.figure(figsize=(20, 6))\n",
        "for i in range(n):\n",
        "    # Original images\n",
        "    ax = plt.subplot(3, n, i + 1)\n",
        "    plt.imshow(points_test[i].reshape(28, 28), cmap = 'gray')\n",
        "    plt.title(\"Original\")\n",
        "    plt.axis(\"off\")\n",
        "\n",
        "    # Decoded images\n",
        "    ax = plt.subplot(3, n, i + 1 + n)\n",
        "    plt.imshow(decoded_images[i].reshape(28, 28), cmap = 'gray')\n",
        "    plt.title(\"Decoded\")\n",
        "    plt.axis(\"off\")\n",
        "\n",
        "plt.show()"
      ]
    },
    {
      "cell_type": "code",
      "execution_count": null,
      "metadata": {
        "id": "y8ch5549HEqC",
        "colab": {
          "base_uri": "https://localhost:8080/"
        },
        "outputId": "872e661f-d151-4a9f-a68d-a8dabec4c785"
      },
      "outputs": [
        {
          "output_type": "stream",
          "name": "stdout",
          "text": [
            "Collecting optuna\n",
            "  Downloading optuna-3.5.0-py3-none-any.whl (413 kB)\n",
            "\u001b[2K     \u001b[90m━━━━━━━━━━━━━━━━━━━━━━━━━━━━━━━━━━━━━━━━\u001b[0m \u001b[32m413.4/413.4 kB\u001b[0m \u001b[31m3.1 MB/s\u001b[0m eta \u001b[36m0:00:00\u001b[0m\n",
            "\u001b[?25hCollecting alembic>=1.5.0 (from optuna)\n",
            "  Downloading alembic-1.13.1-py3-none-any.whl (233 kB)\n",
            "\u001b[2K     \u001b[90m━━━━━━━━━━━━━━━━━━━━━━━━━━━━━━━━━━━━━━━━\u001b[0m \u001b[32m233.4/233.4 kB\u001b[0m \u001b[31m21.1 MB/s\u001b[0m eta \u001b[36m0:00:00\u001b[0m\n",
            "\u001b[?25hCollecting colorlog (from optuna)\n",
            "  Downloading colorlog-6.8.0-py3-none-any.whl (11 kB)\n",
            "Requirement already satisfied: numpy in /usr/local/lib/python3.10/dist-packages (from optuna) (1.23.5)\n",
            "Requirement already satisfied: packaging>=20.0 in /usr/local/lib/python3.10/dist-packages (from optuna) (23.2)\n",
            "Requirement already satisfied: sqlalchemy>=1.3.0 in /usr/local/lib/python3.10/dist-packages (from optuna) (2.0.23)\n",
            "Requirement already satisfied: tqdm in /usr/local/lib/python3.10/dist-packages (from optuna) (4.66.1)\n",
            "Requirement already satisfied: PyYAML in /usr/local/lib/python3.10/dist-packages (from optuna) (6.0.1)\n",
            "Collecting Mako (from alembic>=1.5.0->optuna)\n",
            "  Downloading Mako-1.3.0-py3-none-any.whl (78 kB)\n",
            "\u001b[2K     \u001b[90m━━━━━━━━━━━━━━━━━━━━━━━━━━━━━━━━━━━━━━━━\u001b[0m \u001b[32m78.6/78.6 kB\u001b[0m \u001b[31m7.0 MB/s\u001b[0m eta \u001b[36m0:00:00\u001b[0m\n",
            "\u001b[?25hRequirement already satisfied: typing-extensions>=4 in /usr/local/lib/python3.10/dist-packages (from alembic>=1.5.0->optuna) (4.5.0)\n",
            "Requirement already satisfied: greenlet!=0.4.17 in /usr/local/lib/python3.10/dist-packages (from sqlalchemy>=1.3.0->optuna) (3.0.2)\n",
            "Requirement already satisfied: MarkupSafe>=0.9.2 in /usr/local/lib/python3.10/dist-packages (from Mako->alembic>=1.5.0->optuna) (2.1.3)\n",
            "Installing collected packages: Mako, colorlog, alembic, optuna\n",
            "Successfully installed Mako-1.3.0 alembic-1.13.1 colorlog-6.8.0 optuna-3.5.0\n"
          ]
        }
      ],
      "source": [
        "# pip install optuna"
      ]
    },
    {
      "cell_type": "code",
      "execution_count": null,
      "metadata": {
        "id": "45juB8xLK7Ap",
        "colab": {
          "base_uri": "https://localhost:8080/"
        },
        "outputId": "e9421e55-1144-4d82-e03a-052a93d23c10"
      },
      "outputs": [
        {
          "output_type": "stream",
          "name": "stderr",
          "text": [
            "[I 2023-12-24 14:26:19,959] A new study created in memory with name: no-name-40973d97-54b2-4506-950d-ca190aeace8d\n"
          ]
        },
        {
          "output_type": "stream",
          "name": "stdout",
          "text": [
            "10 8 16 64 128 3 4 (2, 2) (2, 2) 0\n"
          ]
        }
      ],
      "source": [
        "# import optuna\n",
        "# import torch.optim as optim\n",
        "# from optuna.trial import TrialState\n",
        "# from tensorflow.keras.models import Model\n",
        "# from sklearn.model_selection import train_test_split\n",
        "\n",
        "# class Autoencoder(Model):\n",
        "#     def __init__(self, latent_dim, filter1, filter2, kernel_size1, kernel_size2, pool1, pool2):\n",
        "#         super(Autoencoder, self).__init__()\n",
        "#         self.latent_dim = latent_dim\n",
        "\n",
        "#         self.encoder_conv1 = layers.Conv2D(filters = filter1, kernel_size = kernel_size1, strides = (2, 2), padding = 'same', activation = 'relu', input_shape = (28, 28, 1)) # 28 x 28 x 32\n",
        "#         self.encoder_maxpool1 = layers.MaxPooling2D(pool_size = pool1, padding = 'same')\n",
        "#         self.encoder_conv2 = layers.Conv2D(filters = filter2, kernel_size = kernel_size2, strides = (2, 2), padding = 'same', activation = 'relu') # 14 x 14 x 64\n",
        "#         self.encoder_maxpool2 = layers.MaxPooling2D(pool_size = pool2, padding = 'same')\n",
        "#         self.encoder_flatten = layers.Flatten() # flattens it to 1 dimension so we can use Dense\n",
        "#         self.encoder_dense = layers.Dense(latent_dim) # to make it latent_dim numbers 1 dimension\n",
        "\n",
        "#         # Decoder layers\n",
        "#         self.decoder_dense = layers.Dense(units = 7*7*filter1, activation = 'relu')\n",
        "#         self.decoder_reshape = layers.Reshape(target_shape = (7, 7, filter1))\n",
        "#         self.decoder_upsample1 = layers.UpSampling2D(size = pool1)\n",
        "#         self.decoder_conv1 = layers.Conv2D(filters = filter2, kernel_size = kernel_size2, padding = 'same', activation = 'relu')\n",
        "#         self.decoder_upsample2 = layers.UpSampling2D(size = pool2)\n",
        "#         self.decoder_conv2 = layers.Conv2D(filters = filter2, kernel_size = kernel_size1, padding = 'same', activation = 'relu')\n",
        "#         self.decoder_conv3 = layers.Conv2D(filters = 1, kernel_size = 3, padding = 'same', activation = 'sigmoid') # 28 x 28 x1\n",
        "\n",
        "#     def encode(self, x):\n",
        "#         x = self.encoder_conv1(x)\n",
        "#         x = self.encoder_maxpool1(x)\n",
        "#         x = self.encoder_conv2(x)\n",
        "#         x = self.encoder_maxpool2(x)\n",
        "#         x = self.encoder_flatten(x)\n",
        "#         x = self.encoder_dense(x)\n",
        "#         return x\n",
        "\n",
        "#     def decode(self, x):\n",
        "#         x = self.decoder_dense(x)\n",
        "#         x = self.decoder_reshape(x)\n",
        "#         x = self.decoder_upsample1(x)\n",
        "#         x = self.decoder_conv1(x)\n",
        "#         x = self.decoder_upsample2(x)\n",
        "#         x = self.decoder_conv2(x)\n",
        "#         x = self.decoder_conv3(x)\n",
        "#         return x\n",
        "#     def call(self, inputs):\n",
        "#         # Encoder\n",
        "#         x = self.encoder_conv1(inputs)\n",
        "#         x = self.encoder_maxpool1(x)\n",
        "#         x = self.encoder_conv2(x)\n",
        "#         x = self.encoder_maxpool2(x)\n",
        "#         x = self.encoder_flatten(x)\n",
        "#         encoded = self.encoder_dense(x)\n",
        "\n",
        "#         # Decoder\n",
        "#         x = self.decoder_dense(encoded)\n",
        "#         x = self.decoder_reshape(x)\n",
        "#         x = self.decoder_upsample1(x)\n",
        "#         x = self.decoder_conv1(x)\n",
        "#         x = self.decoder_upsample2(x)\n",
        "#         x = self.decoder_conv2(x)\n",
        "#         decoded = self.decoder_conv3(x)\n",
        "\n",
        "#         return decoded\n",
        "\n",
        "# def objective(trial):\n",
        "#   # trial.suggest_categorical('parameter_name', [32, 64, 128])\n",
        "#     epo = trial.suggest_int(\"epo\", 5, 10)\n",
        "#     batch = trial.suggest_int(\"batch\", 1, 10)\n",
        "#     latent_dim = trial.suggest_int(\"latent_dim\", 1, 20)\n",
        "#     filter1 = trial.suggest_categorical('filter1', [16, 32, 64, 128])\n",
        "#     filter2 = trial.suggest_categorical('filter2', [16, 32, 64, 128])\n",
        "#     kernel_size1 = trial.suggest_int(\"kernel_size1\", 3, 5)\n",
        "#     kernel_size2 = trial.suggest_int(\"kernel_size2\", 3, 5)\n",
        "#     # pool1 = trial.suggest_int(\"pool1\", 2, 4)\n",
        "#     # pool2 = trial.suggest_int(\"pool2\", 2, 4)\n",
        "#     p1 = (2, 2)  #ta alla eixan problima\n",
        "#     p2 = (2, 2) #ta alla eixan problima\n",
        "#     lr = trial.suggest_float(\"lr\", 1e-5, 1e-2, log = True)\n",
        "#     print(epo, batch, latent_dim, filter1, filter2, kernel_size1, kernel_size2, p1, p2, trial.number)\n",
        "#     autoencoder = Autoencoder(latent_dim, filter1, filter2, kernel_size1, kernel_size2, p1, p2)\n",
        "#     autoencoder.compile(optimizer = tf.keras.optimizers.Adam(learning_rate = lr), loss = 'mse')\n",
        "\n",
        "#     autoencoder.fit(points_train, points_train, epochs = epo, batch_size = batch, shuffle = True, validation_data = (points_val, points_val), verbose = 2)\n",
        "#     encoded_images = autoencoder.encode(all_points)\n",
        "#     encoded_q =autoencoder.encode(all_q[0:10])\n",
        "#     decoded_q = autoencoder.decode(encoded_q)\n",
        "#     decoded_q = decoded_q*255\n",
        "#     decoded_q = tf.cast(decoded_q, dtype=tf.int32)\n",
        "#     decoded_images = autoencoder.decode(encoded_images)\n",
        "#     decoded_images = decoded_images*255\n",
        "#     decoded_images = tf.cast(decoded_images, dtype = tf.int32)\n",
        "#     with open(f'encoder_p_{trial.number}.dat', 'w') as file:\n",
        "#       file.write(str(50000)) # Magic number\n",
        "#       file.write(' ')\n",
        "#       file.write(str(len(encoded_images)))\n",
        "#       file.write(' ')\n",
        "#       file.write(str(latent_dim))\n",
        "#       file.write(' ')\n",
        "#       file.write(str(1))\n",
        "#       file.write(' ')\n",
        "#       file.write('\\n')\n",
        "#       for i, encoded_image in enumerate(encoded_images):\n",
        "#           file.write(' '.join(map(str, encoded_image.numpy().flatten())))\n",
        "#           file.write('\\n')\n",
        "#       file.close()\n",
        "#     with open(f'decoder_p_{trial.number}.dat', 'w') as file:\n",
        "#       file.write(str(50000)) # Magic number\n",
        "#       file.write(' ')\n",
        "#       file.write(str(len(decoded_images)))\n",
        "#       file.write(' ')\n",
        "#       file.write(\"28\")\n",
        "#       file.write(' ')\n",
        "#       file.write(\"28\")\n",
        "#       file.write(' ')\n",
        "#       file.write('\\n')\n",
        "#       for i, decoded_image in enumerate(decoded_images):\n",
        "#           file.write(' '.join(map(str, decoded_image.numpy().flatten())))\n",
        "#           file.write('\\n')\n",
        "#       file.close()\n",
        "#     with open(f'decoder_q_{trial.number}.dat', 'w') as file:\n",
        "#       for i, decoded_image in enumerate(decoded_q):\n",
        "#           file.write(' '.join(map(str, decoded_q.numpy().flatten())))\n",
        "#           file.write('\\n')\n",
        "#       file.close()\n",
        "#     with open(f'encoder_q_{trial.number}.dat', 'w') as file:\n",
        "#       for i, encoded_image in enumerate(encoded_q):\n",
        "#           file.write(' '.join(map(str, encoded_image.numpy().flatten())))\n",
        "#           file.write('\\n')\n",
        "#       file.close()\n",
        "#     return autoencoder.evaluate(points_val, points_val)\n",
        "\n",
        "\n",
        "\n",
        "# all_points = ima.astype('float32') / 255.0\n",
        "# all_q = que.astype('float32') / 255.0\n",
        "# points_train, points_val = train_test_split(ima[0:20000], random_state = 1000, test_size = 0.1, shuffle = True)\n",
        "# points_train = points_train.astype('float32') / 255.0\n",
        "# points_val = points_val.astype('float32') / 255.0\n",
        "# # Create a study object and optimize the objective function\n",
        "# study = optuna.create_study(direction = \"minimize\")\n",
        "# study.optimize(objective, n_trials = 10)\n",
        "\n",
        "# # Get the best hyperparameters\n",
        "# best_params = study.best_params\n",
        "# print(\"Best Hyperparameters:\", best_params)\n",
        "\n",
        "# # Train the final model with the best hyperparameters\n",
        "# best_latent_dim = best_params[\"latent_dim\"]\n",
        "# best_filter1 = best_params[\"filter1\"]\n",
        "# best_filter2 = best_params[\"filter2\"]\n",
        "# best_kernel_size1 = best_params[\"kernel_size1\"]\n",
        "# best_kernel_size2 = best_params[\"kernel_size2\"]\n",
        "# # best_pool1 = best_params[\"pool1\"]\n",
        "# # best_pool2 = best_params[\"pool2\"]\n",
        "# best_epo = best_params[\"epo\"]\n",
        "# best_batch = best_params[\"batch\"]\n",
        "# best_lr = best_params[\"lr\"]\n"
      ]
    }
  ],
  "metadata": {
    "colab": {
      "provenance": [],
      "gpuType": "T4"
    },
    "kernelspec": {
      "display_name": "Python 3",
      "name": "python3"
    },
    "language_info": {
      "name": "python"
    },
    "accelerator": "GPU"
  },
  "nbformat": 4,
  "nbformat_minor": 0
}